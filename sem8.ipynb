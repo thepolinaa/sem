{
 "cells": [
  {
   "cell_type": "code",
   "execution_count": null,
   "id": "66aabb77",
   "metadata": {},
   "outputs": [],
   "source": [
    "# 1\n",
    "l1 = ['1', '123', '123', '12', '1', '123']\n",
    "print([len(x) for x in l1])"
   ]
  },
  {
   "cell_type": "code",
   "execution_count": null,
   "id": "3fc9a97c",
   "metadata": {},
   "outputs": [],
   "source": [
    "# 2\n",
    "l1 = ['1', '123', '123', '12', '1', '123']\n",
    "print(len([x for x in l1 if len(x) > 2]))"
   ]
  },
  {
   "cell_type": "code",
   "execution_count": null,
   "id": "ac38fdda",
   "metadata": {},
   "outputs": [],
   "source": [
    "# 3\n",
    "l2 = [2, 4, -2, -3, 0, 11, 3, -1]\n",
    "print([l2[i] * (i + 1) for i in range(len(l2))])"
   ]
  },
  {
   "cell_type": "code",
   "execution_count": null,
   "id": "2e741bbb",
   "metadata": {},
   "outputs": [],
   "source": [
    "# 4\n",
    "l2 = [2, 4, -2, -3, 0, 11, 3, -1]\n",
    "print([x for x in l2 if x > 0])"
   ]
  },
  {
   "cell_type": "code",
   "execution_count": null,
   "id": "439009cd",
   "metadata": {},
   "outputs": [],
   "source": [
    "# 5\n",
    "l2 = [2, 4, -2, -3, 0, 11, 3, -1]\n",
    "print([l2[x] if l2[x] > 0 else (x + 1) for x in range(len(l2))])"
   ]
  },
  {
   "cell_type": "code",
   "execution_count": null,
   "id": "f84a72ae",
   "metadata": {},
   "outputs": [],
   "source": [
    "# 6\n",
    "print({i + 1:j for i, j in enumerate('abcdef')})"
   ]
  },
  {
   "cell_type": "code",
   "execution_count": null,
   "id": "bebe8ff7",
   "metadata": {},
   "outputs": [],
   "source": [
    "# 8\n",
    "print({i:'aabcdettm'.count(i) for i in 'aabcdettm'})"
   ]
  },
  {
   "cell_type": "code",
   "execution_count": null,
   "id": "f033d8a4",
   "metadata": {},
   "outputs": [],
   "source": [
    "# 9\n",
    "print({i:'aabcXDFGRFdettm'.count(i) for i in 'aabcXDFGRFdettm' if i == i.lower()})"
   ]
  },
  {
   "cell_type": "code",
   "execution_count": null,
   "id": "39106b8e",
   "metadata": {},
   "outputs": [],
   "source": [
    "# 10\n",
    "d4 = {1: 10, 2: 20, 3: 30, 4: 40, 5: 50, 6: 60}\n",
    "print(sum([(x * d4[x]) for x in d4]))"
   ]
  },
  {
   "cell_type": "code",
   "execution_count": null,
   "id": "7c4bf4a4",
   "metadata": {},
   "outputs": [],
   "source": [
    "# 11\n",
    "d5 = {'a': 3, 'b': 4, 'c': 5, 'd': 6, 'e': 7, 'f': 8, 'g': 9}\n",
    "d6 = {'e': 20, 'f': 21, 'g': 22, 'h': 23, 'i': 24, 'j': 25, 'k': 26, 'l': 27}\n",
    "d7 = {k: v for k, v in d6.items() if (k, v) not in d5.items()}\n",
    "print(d7)"
   ]
  },
  {
   "cell_type": "code",
   "execution_count": null,
   "id": "6b3959a8",
   "metadata": {},
   "outputs": [],
   "source": [
    "# 12\n",
    "d5 = {'a': 3, 'b': 4, 'c': 5, 'd': 6, 'e': 7, 'f': 8, 'g': 9}\n",
    "d6 = {'e': 20, 'f': 21, 'g': 22, 'h': 23, 'i': 24, 'j': 25, 'k': 26, 'l': 27}\n",
    "d9= {i:j for i, j in list(d5.items()) + list(d6.items())}\n",
    "print(d9)"
   ]
  }
 ],
 "metadata": {
  "kernelspec": {
   "display_name": "Python 3 (ipykernel)",
   "language": "python",
   "name": "python3"
  },
  "language_info": {
   "codemirror_mode": {
    "name": "ipython",
    "version": 3
   },
   "file_extension": ".py",
   "mimetype": "text/x-python",
   "name": "python",
   "nbconvert_exporter": "python",
   "pygments_lexer": "ipython3",
   "version": "3.11.5"
  }
 },
 "nbformat": 4,
 "nbformat_minor": 5
}
