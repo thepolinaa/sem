{
 "cells": [
  {
   "cell_type": "markdown",
   "id": "d9ec4379",
   "metadata": {},
   "source": [
    "1. Реализовать простейший динамический массив, поддерживающий добавление элемента в конец массива при помощи метода append(e). Также должны поддерживаться следующие операции:\n",
    "извлечение элемента по индексу;\n",
    "установка нового значения по индексу;\n",
    "получение текущей длины массива;\n",
    "удаление элемента из любого места массива;\n",
    "поддержка корректного вывода массива при помощи функции print."
   ]
  },
  {
   "cell_type": "code",
   "execution_count": 4,
   "id": "f57dece1",
   "metadata": {},
   "outputs": [
    {
     "name": "stdout",
     "output_type": "stream",
     "text": [
      "[1, 2, 3, 4]\n",
      "[1, 2, 4]\n"
     ]
    }
   ],
   "source": [
    "class DynamicArray:\n",
    "    def __init__(self):\n",
    "        self.size = 0\n",
    "        self.capacity = 1\n",
    "        self.array = [None] * self.capacity\n",
    "\n",
    "    def __getitem__(self, index):\n",
    "        if index < 0 or index >= self.size:\n",
    "            raise IndexError(\"Index out of range\")\n",
    "        return self.array[index]\n",
    "\n",
    "    def __setitem__(self, index, value):\n",
    "        if index < 0 or index >= self.size:\n",
    "            raise IndexError(\"Index out of range\")\n",
    "        self.array[index] = value\n",
    "\n",
    "    def append(self, value):\n",
    "        if self.size == self.capacity:\n",
    "            self._resize(2 * self.capacity)\n",
    "        self.array[self.size] = value\n",
    "        self.size += 1\n",
    "\n",
    "    def delete(self, index):\n",
    "        if index < 0 or index >= self.size:\n",
    "            raise IndexError(\"Index out of range\")\n",
    "        for i in range(index, self.size - 1):\n",
    "            self.array[i] = self.array[i + 1]\n",
    "        self.size -= 1\n",
    "\n",
    "    def _resize(self, new_capacity):\n",
    "        new_array = [None] * new_capacity\n",
    "        for i in range(self.size):\n",
    "            new_array[i] = self.array[i]\n",
    "        self.array = new_array\n",
    "        self.capacity = new_capacity\n",
    "\n",
    "    def length(self):\n",
    "        return self.size\n",
    "\n",
    "    def __str__(self):\n",
    "        return \"[\" + \", \".join(str(self.array[i]) for i in range(self.size)) + \"]\"\n",
    "\n",
    "\n",
    "# пример использования\n",
    "arr = DynamicArray()\n",
    "arr.append(1)\n",
    "arr.append(2)\n",
    "arr.append(3)\n",
    "arr.append(4)\n",
    "\n",
    "print(arr)            \n",
    "\n",
    "arr.delete(2)\n",
    "print(arr)            "
   ]
  },
  {
   "cell_type": "markdown",
   "id": "48b34b1d",
   "metadata": {},
   "source": [
    "2. Реализовать генератор, который возвращает значение поочередно извлекаемое из конца двух очередей (в качестве очереди используется deque из collections). Если очередь из которой извлекается элемент пуста - генератор заканчивает работу."
   ]
  },
  {
   "cell_type": "code",
   "execution_count": 5,
   "id": "cfd881b9",
   "metadata": {},
   "outputs": [
    {
     "name": "stdout",
     "output_type": "stream",
     "text": [
      "7\n",
      "3\n",
      "6\n",
      "2\n",
      "5\n",
      "1\n",
      "4\n"
     ]
    }
   ],
   "source": [
    "from collections import deque\n",
    "\n",
    "def alternate_queue_extract(queue1, queue2):\n",
    "    while queue1 or queue2:\n",
    "        if queue2:\n",
    "            yield queue2.pop()\n",
    "        if queue1:\n",
    "            yield queue1.pop()\n",
    "\n",
    "# Пример использования:\n",
    "q1 = deque([1, 2, 3])\n",
    "q2 = deque([4, 5, 6, 7])\n",
    "\n",
    "generator = alternate_queue_extract(q1, q2)\n",
    "for value in generator:\n",
    "    print(value)"
   ]
  },
  {
   "cell_type": "markdown",
   "id": "b5b024c7",
   "metadata": {},
   "source": [
    "3a) Класс Pump - в методе action() извлекает очередное значение из генератора и помещает значение в очередь (очередь передается в конструктор)."
   ]
  },
  {
   "cell_type": "code",
   "execution_count": 6,
   "id": "fa17458e",
   "metadata": {},
   "outputs": [],
   "source": [
    "from collections import deque"
   ]
  },
  {
   "cell_type": "code",
   "execution_count": 14,
   "id": "f137a507",
   "metadata": {},
   "outputs": [],
   "source": [
    "class Pump:\n",
    "    def __init__(self, queue, generator):\n",
    "        self.queue = queue\n",
    "        self.generator = generator\n",
    "\n",
    "    def action(self):\n",
    "        try:\n",
    "            value = next(self.generator)  # Извлечение следующего значения из генератора\n",
    "            self.queue.append(value)  # Помещение значения в очередь\n",
    "        except StopIteration:\n",
    "            pass"
   ]
  },
  {
   "cell_type": "markdown",
   "id": "438bb0f6",
   "metadata": {},
   "source": [
    "3b) Класс MultiAction - при вызове метода action() n раз вызвает метод action() класса, переданного в конструкторе. Число n также определяется в конструкторе."
   ]
  },
  {
   "cell_type": "code",
   "execution_count": 15,
   "id": "ac0a05c4",
   "metadata": {},
   "outputs": [],
   "source": [
    "class MultiAction:\n",
    "    def __init__(self, cls, n):\n",
    "        self.cls = cls\n",
    "        self.n = n\n",
    "\n",
    "    def action(self):\n",
    "        for _ in range(self.n):\n",
    "            self.cls.action()"
   ]
  },
  {
   "cell_type": "markdown",
   "id": "bc4d6b2d",
   "metadata": {},
   "source": [
    "3c) Класс MultiPump - в методе action() извлекает очередное значение из генератора и помещает значение в одну из очередей (очереди передается в конструкторе); очереди , в которые помещаются очередные значения, меняются по порядку."
   ]
  },
  {
   "cell_type": "code",
   "execution_count": 16,
   "id": "099f8904",
   "metadata": {},
   "outputs": [],
   "source": [
    "class MultiPump:\n",
    "    def __init__(self, queues, generator):\n",
    "        self.queues = queues\n",
    "        self.generator = generator\n",
    "        self.current_queue_index = 0\n",
    "\n",
    "    def action(self):\n",
    "        try:\n",
    "            value = next(self.generator)  # Извлечение следующего значения из генератора\n",
    "            self.queues[self.current_queue_index].append(value)  # Помещение значения в текущую очередь\n",
    "            self.current_queue_index = (self.current_queue_index + 1) % len(self.queues)  # Переход к следующей очереди\n",
    "        except StopIteration:\n",
    "            pass"
   ]
  },
  {
   "cell_type": "code",
   "execution_count": 28,
   "id": "e70f55ca",
   "metadata": {},
   "outputs": [
    {
     "name": "stdout",
     "output_type": "stream",
     "text": [
      "deque([1, 3, 4, 5])\n",
      "deque([2])\n"
     ]
    }
   ],
   "source": [
    "gen = (i for i in range(1, 10))\n",
    "queue1 = deque()\n",
    "queue2 = deque()\n",
    "pump1 = Pump(queue1, gen)\n",
    "pump2 = Pump(queue2, gen)\n",
    "\n",
    "multi_pump = MultiPump([queue1, queue2], gen)\n",
    "multi_pump.action()\n",
    "multi_pump.action()\n",
    "\n",
    "multi_action = MultiAction(pump1, 3)\n",
    "multi_action.action()\n",
    "\n",
    "print(queue1)\n",
    "print(queue2)"
   ]
  },
  {
   "cell_type": "markdown",
   "id": "32b0613a",
   "metadata": {},
   "source": [
    "4. При помощи GenFromQ, Pump реализовать систему опработки сообщений. Сообщения создаются генератором сообщений возвращающим случайным образорм одно из сообщений. Сообщения из трех генераторов закачиваются в три очереди при помощи классов Pump, далее при помощи GenFromQ и Pump объединяются в одну очередь и выводятся на экран (можно реализовать при помощи класса с action и вызываемого при помощи MultiPump)."
   ]
  },
  {
   "cell_type": "code",
   "execution_count": 32,
   "id": "c4866f85",
   "metadata": {},
   "outputs": [
    {
     "name": "stdout",
     "output_type": "stream",
     "text": [
      "Hey!\n",
      "Good morning!\n",
      "How are you?\n"
     ]
    }
   ],
   "source": [
    "import random\n",
    "from collections import deque\n",
    "\n",
    "# Генераторы сообщений\n",
    "def message_generator1():\n",
    "    messages = ['Hello!', 'Hey!', 'Salute!']\n",
    "    while True:\n",
    "        yield random.choice(messages)\n",
    "\n",
    "def message_generator2():\n",
    "    messages = ['Good morning!', 'Good afternoon!', 'Good evening!']\n",
    "    while True:\n",
    "        yield random.choice(messages)\n",
    "\n",
    "def message_generator3():\n",
    "    messages = ['Maybe we should take a walk?', 'How are you?', 'Keep smiling']\n",
    "    while True:\n",
    "        yield random.choice(messages)\n",
    "\n",
    "# очереди для хранения сообщений\n",
    "queue1 = deque()\n",
    "queue2 = deque()\n",
    "queue3 = deque()\n",
    "combined_queue = deque()\n",
    "\n",
    "# класс для загрузки сообщений в очередь\n",
    "class Pump:\n",
    "    def __init__(self, queue, generator):\n",
    "        self.queue = queue\n",
    "        self.generator = generator\n",
    "\n",
    "    def action(self):\n",
    "        try:\n",
    "            value = next(self.generator)\n",
    "            self.queue.append(value)\n",
    "        except StopIteration:\n",
    "            pass\n",
    "\n",
    "# класс для объединения сообщений из разных очередей\n",
    "class GenFromQ:\n",
    "    def __init__(self, queues, output_queue):\n",
    "        self.queues = queues\n",
    "        self.output_queue = output_queue\n",
    "\n",
    "    def action(self):\n",
    "        for q in self.queues:\n",
    "            if q:\n",
    "                message = q.popleft()\n",
    "                self.output_queue.append(message)\n",
    "\n",
    "# загрузка сообщений в очереди\n",
    "pump1 = Pump(queue1, message_generator1())\n",
    "pump2 = Pump(queue2, message_generator2())\n",
    "pump3 = Pump(queue3, message_generator3())\n",
    "\n",
    "pump1.action()\n",
    "pump2.action()\n",
    "pump3.action()\n",
    "\n",
    "# объединение сообщений из разных очередей\n",
    "gen_from_q = GenFromQ([queue1, queue2, queue3], combined_queue)\n",
    "gen_from_q.action()\n",
    "\n",
    "# вывод сообщений на экран\n",
    "while combined_queue:\n",
    "    print(combined_queue.popleft())"
   ]
  }
 ],
 "metadata": {
  "kernelspec": {
   "display_name": "Python 3 (ipykernel)",
   "language": "python",
   "name": "python3"
  },
  "language_info": {
   "codemirror_mode": {
    "name": "ipython",
    "version": 3
   },
   "file_extension": ".py",
   "mimetype": "text/x-python",
   "name": "python",
   "nbconvert_exporter": "python",
   "pygments_lexer": "ipython3",
   "version": "3.11.5"
  }
 },
 "nbformat": 4,
 "nbformat_minor": 5
}
