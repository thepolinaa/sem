{
 "cells": [
  {
   "cell_type": "markdown",
   "id": "415ccd4e",
   "metadata": {},
   "source": [
    "1. При помощи стека (можно использовать любую реализацию стека, например, из лекции) проверить, что в строке, содержащей большой фрагмент кода на python, корректно открываются и закрываются скобки '(' и ')'. Заводить какие-либо счетчики и вообще вести подсчет скобок запрещено. \n",
    "\n"
   ]
  },
  {
   "cell_type": "code",
   "execution_count": 7,
   "id": "77b746a1",
   "metadata": {},
   "outputs": [
    {
     "name": "stdout",
     "output_type": "stream",
     "text": [
      "скобки расставлены верно\n"
     ]
    }
   ],
   "source": [
    "def correct_checking(text):\n",
    "    stack = []\n",
    "    for c in text:\n",
    "        if c == '(':\n",
    "            stack.append(c)\n",
    "        elif c == ')':        \n",
    "            if not stack:\n",
    "                return False  \n",
    "            else:\n",
    "                stack.pop()\n",
    "    return len(stack) == 0\n",
    "\n",
    "text = '((dsasdas((das(d)das)d)asd)da)'\n",
    "if correct_checking(text):\n",
    "    print('скобки расставлены верно')\n",
    "else:\n",
    "    print('скобки расставлены неверно')"
   ]
  },
  {
   "cell_type": "markdown",
   "id": "09fad3d8",
   "metadata": {},
   "source": [
    "2. С помощью списка (list) реализовать стек. При создании стека нужно передать максимальную длину стека. В случае попытки добавления элемента, приводящего к превышению емкости стека возвращать ошибку. \n",
    "\n",
    "Стек должен поддерживать следующие операции: \n",
    "\n",
    "S.push(e): добавление элемента e на вершину стека S. \n",
    "\n",
    "S.pop(): удаляет и возвращает верхний элемент стека S. Если стек пуст, то возникает ошибка. \n",
    "\n",
    "S.top(): возвращает верхний элемент стека S, не удаляя его. Если стек пуст, то возникает ошибка. \n",
    "\n",
    "S.is_empty( ): возвращает True если стек S не содержит ни одного элемента. \n",
    "\n",
    "len(S): возвращает текущеее количество элементов в стеке S. \n"
   ]
  },
  {
   "cell_type": "code",
   "execution_count": 2,
   "id": "48a37b7f",
   "metadata": {},
   "outputs": [
    {
     "name": "stdout",
     "output_type": "stream",
     "text": [
      "элементы - 2, 4, 6\n",
      "Верхний элемент:  6\n",
      "Текущее количество элементов:  3\n",
      "Верхний элемент после pop(): 4\n",
      "Текущее количество элементов после pop(): 2\n"
     ]
    }
   ],
   "source": [
    "class Stack:\n",
    "    def __init__(st, max_size):\n",
    "        st.stack = []\n",
    "        st.max_size = max_size\n",
    "        \n",
    "    def push(st, e):\n",
    "        if len(st.stack) < st.max_size:\n",
    "            st.stack.append(e)\n",
    "        else:\n",
    "            raise IndexError(\"Stack overflow\")\n",
    "            \n",
    "    def pop(st):\n",
    "        if not st.is_empty():\n",
    "            return st.stack.pop()\n",
    "        else:\n",
    "            raise IndexError(\"Stack underflow\")\n",
    "            \n",
    "    def top(st):\n",
    "        if not st.is_empty():\n",
    "            return st.stack[-1]\n",
    "        else:\n",
    "            raise IndexError(\"Stack is empty\")\n",
    "            \n",
    "    def is_empty(st):\n",
    "        return len(st.stack) == 0\n",
    "    \n",
    "    def __len__(st):\n",
    "        return len(st.stack)\n",
    "    \n",
    "stack = Stack(max_size=3)\n",
    "stack.push(2)\n",
    "stack.push(4)\n",
    "stack.push(6)\n",
    "\n",
    "print('элементы - 1, 2, 3')\n",
    "print('верхний элемент: ', stack.top())  \n",
    "print('текущее количество элементов: ', len(stack))    \n",
    "\n",
    "stack.pop()\n",
    "print('верхний элемент после pop():', stack.top())  \n",
    "print('текущее количество элементов после pop():', len(stack))    "
   ]
  },
  {
   "cell_type": "markdown",
   "id": "c04df837",
   "metadata": {},
   "source": [
    "3. Реализовать класс однонаправленного связанного списка и метод добавления элемента в начало списка"
   ]
  },
  {
   "cell_type": "code",
   "execution_count": 1,
   "id": "668e3ed0",
   "metadata": {},
   "outputs": [
    {
     "name": "stdout",
     "output_type": "stream",
     "text": [
      "7 -> 5 -> 3 -> None\n"
     ]
    }
   ],
   "source": [
    "class Node:\n",
    "    def __init__(self, data):\n",
    "        self.data = data\n",
    "        self.next = None\n",
    "\n",
    "class SinglyLinkedList:\n",
    "    def __init__(self):\n",
    "        self.head = None\n",
    "\n",
    "    def add_to_front(self, data):\n",
    "        new_node = Node(data)\n",
    "        new_node.next = self.head\n",
    "        self.head = new_node\n",
    "\n",
    "    def print_list(self):\n",
    "        current = self.head\n",
    "        while current:\n",
    "            print(current.data, end=\" -> \")\n",
    "            current = current.next\n",
    "        print(\"None\")\n",
    "\n",
    "sll = SinglyLinkedList()\n",
    "sll.add_to_front(3)\n",
    "sll.add_to_front(5)\n",
    "sll.add_to_front(7)\n",
    "sll.print_list()  "
   ]
  },
  {
   "cell_type": "markdown",
   "id": "9e8ccfaa",
   "metadata": {},
   "source": [
    "4. На базе класса однонаправленного связанного списка реализовать двунаправленный связанный список.  \n",
    "Реализовать метод добавления элемента в начало списка\n"
   ]
  },
  {
   "cell_type": "code",
   "execution_count": 3,
   "id": "54e56952",
   "metadata": {},
   "outputs": [
    {
     "name": "stdout",
     "output_type": "stream",
     "text": [
      "7\n",
      "5\n",
      "3\n"
     ]
    }
   ],
   "source": [
    "class Node:\n",
    "    def __init__(self, data):\n",
    "        self.data = data\n",
    "        self.next = None\n",
    "        self.prev = None\n",
    "\n",
    "class DoublyLinkedList:\n",
    "    def __init__(self):\n",
    "        self.head = None\n",
    "\n",
    "    def add_to_front(self, data):\n",
    "        new_node = Node(data)\n",
    "        if self.head is None:\n",
    "            self.head = new_node\n",
    "        else:\n",
    "            new_node.next = self.head\n",
    "            self.head.prev = new_node\n",
    "            self.head = new_node\n",
    "\n",
    "    def print_list(self):\n",
    "        current = self.head\n",
    "        while current:\n",
    "            print(current.data)\n",
    "            current = current.next\n",
    "\n",
    "dll = DoublyLinkedList()\n",
    "dll.add_to_front(3)\n",
    "dll.add_to_front(5)\n",
    "dll.add_to_front(7)\n",
    "\n",
    "dll.print_list()"
   ]
  },
  {
   "cell_type": "markdown",
   "id": "cc2d34c7",
   "metadata": {},
   "source": [
    "5. При помощи класса связанного списка реализовать очередь."
   ]
  },
  {
   "cell_type": "code",
   "execution_count": 4,
   "id": "95be3dac",
   "metadata": {},
   "outputs": [
    {
     "name": "stdout",
     "output_type": "stream",
     "text": [
      "Очередь до удаления элемента:\n",
      "3\n",
      "5\n",
      "7\n",
      "Удаленный элемент: 3\n",
      "Очередь после удаления элемента:\n",
      "5\n",
      "7\n"
     ]
    }
   ],
   "source": [
    "class Node:\n",
    "    def __init__(self, data):\n",
    "        self.data = data\n",
    "        self.next = None\n",
    "\n",
    "class Queue:\n",
    "    def __init__(self):\n",
    "        self.head = None\n",
    "        self.tail = None\n",
    "\n",
    "    def enqueue(self, data):\n",
    "        new_node = Node(data)\n",
    "        if self.head is None:\n",
    "            self.head = new_node\n",
    "            self.tail = new_node\n",
    "        else:\n",
    "            self.tail.next = new_node\n",
    "            self.tail = new_node\n",
    "\n",
    "    def dequeue(self):\n",
    "        if self.head is None:\n",
    "            return None\n",
    "        data = self.head.data\n",
    "        self.head = self.head.next\n",
    "        if self.head is None:\n",
    "            self.tail = None\n",
    "        return data\n",
    "\n",
    "    def print_queue(self):\n",
    "        current = self.head\n",
    "        while current:\n",
    "            print(current.data)\n",
    "            current = current.next\n",
    "\n",
    "q = Queue()\n",
    "q.enqueue(3)\n",
    "q.enqueue(5)\n",
    "q.enqueue(7)\n",
    "\n",
    "print(\"очередь до удаления элемента:\")\n",
    "q.print_queue()\n",
    "\n",
    "removed_element = q.dequeue()\n",
    "print(f\"удаленный элемент: {removed_element}\")\n",
    "\n",
    "print(\"очередь после удаления элемента:\")\n",
    "q.print_queue()"
   ]
  }
 ],
 "metadata": {
  "kernelspec": {
   "display_name": "Python 3 (ipykernel)",
   "language": "python",
   "name": "python3"
  },
  "language_info": {
   "codemirror_mode": {
    "name": "ipython",
    "version": 3
   },
   "file_extension": ".py",
   "mimetype": "text/x-python",
   "name": "python",
   "nbconvert_exporter": "python",
   "pygments_lexer": "ipython3",
   "version": "3.11.5"
  }
 },
 "nbformat": 4,
 "nbformat_minor": 5
}
