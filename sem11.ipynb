{
 "cells": [
  {
   "cell_type": "code",
   "execution_count": null,
   "id": "af6b74de",
   "metadata": {},
   "outputs": [],
   "source": [
    "# 1\n",
    "with open('белеет_парус.txt', encoding='utf-8') as f:\n",
    "    data = f.read()\n",
    "import re\n",
    "lst = []\n",
    "lst = re.findall(r'[а-яА-Я]+', data)\n",
    "lst"
   ]
  },
  {
   "cell_type": "code",
   "execution_count": null,
   "id": "46f8719d",
   "metadata": {},
   "outputs": [],
   "source": [
    "# 2\n",
    "dct_lower = {k: lst.count(k) for k in lst if k[0] == k[0].lower()}\n",
    "dct_upper = {k.lower(): lst.count(k) for k in lst if k[0] == k[0].upper()}\n",
    "dct = {}\n",
    "dct.update(dct_lower)\n",
    "for k in dct_upper:\n",
    "    dct[k] = dct.get(k,0) + dct_upper[k]\n",
    "dct"
   ]
  }
 ],
 "metadata": {
  "kernelspec": {
   "display_name": "Python 3 (ipykernel)",
   "language": "python",
   "name": "python3"
  },
  "language_info": {
   "codemirror_mode": {
    "name": "ipython",
    "version": 3
   },
   "file_extension": ".py",
   "mimetype": "text/x-python",
   "name": "python",
   "nbconvert_exporter": "python",
   "pygments_lexer": "ipython3",
   "version": "3.11.5"
  }
 },
 "nbformat": 4,
 "nbformat_minor": 5
}
