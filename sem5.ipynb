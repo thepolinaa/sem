{
 "cells": [
  {
   "cell_type": "code",
   "execution_count": null,
   "id": "85c8cbc3",
   "metadata": {},
   "outputs": [],
   "source": [
    "# 1\n",
    "print('введите строку:')\n",
    "s = input()\n",
    "a = [''] * 4\n",
    "a[0] = s[:s.find('-')]\n",
    "a[1] = s[s.rfind('-')+1:s.find('=')]\n",
    "a[2] = s[s.rfind('=')+1:s.find('_')]\n",
    "a[3] = s[s.rfind('_')+1:]\n",
    "print(a)"
   ]
  },
  {
   "cell_type": "code",
   "execution_count": null,
   "id": "b9daabd2",
   "metadata": {},
   "outputs": [],
   "source": [
    "# 2\n",
    "print('введите предложение: ')\n",
    "s = input()\n",
    "s1 = s.lower()\n",
    "alf = 'abcdefghijklmnopqrstuvwxyz'\n",
    "for i in s1:\n",
    "    if not(i in alf):\n",
    "        k = s1.find(i)\n",
    "        break\n",
    "print(s[:k])"
   ]
  }
 ],
 "metadata": {
  "kernelspec": {
   "display_name": "Python 3 (ipykernel)",
   "language": "python",
   "name": "python3"
  },
  "language_info": {
   "codemirror_mode": {
    "name": "ipython",
    "version": 3
   },
   "file_extension": ".py",
   "mimetype": "text/x-python",
   "name": "python",
   "nbconvert_exporter": "python",
   "pygments_lexer": "ipython3",
   "version": "3.11.5"
  }
 },
 "nbformat": 4,
 "nbformat_minor": 5
}
