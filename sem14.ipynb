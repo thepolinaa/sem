{
 "cells": [
  {
   "cell_type": "markdown",
   "id": "9765dead",
   "metadata": {},
   "source": [
    "10. Написать 4 функции порождения списка целых значений: отсортированного (по возрастанию и убыванию), случайного и почти отсортированного по возрастанию. Каждая функция принимает длину списка в качестве аргумента."
   ]
  },
  {
   "cell_type": "code",
   "execution_count": 14,
   "id": "43548593",
   "metadata": {},
   "outputs": [
    {
     "name": "stdout",
     "output_type": "stream",
     "text": [
      "[1, 2, 3, 4, 5, 6, 7, 8, 9, 10, 11, 12, 13]\n",
      "[12, 11, 10, 9, 8, 7, 6, 5, 4, 3, 2, 1]\n",
      "[52, 92, 22, 41]\n",
      "[1, 2, 3, 4, 51, 6, 7, 8, 9, 10, 11]\n"
     ]
    }
   ],
   "source": [
    "# функция для генерации отсортированного списка по возрастанию:\n",
    "def sorted_ascending_list(length):\n",
    "    return list(range(1, length+1))\n",
    "print(sorted_ascending_list(13))\n",
    "\n",
    "# функция для генерации отсортированного списка по убыванию:\n",
    "def sorted_descending_list(length):\n",
    "    return list(range(length, 0, -1))\n",
    "print(sorted_descending_list(12))\n",
    "\n",
    "# функция для генерации случайного списка:\n",
    "import random\n",
    "\n",
    "def random_list(length):\n",
    "    return [random.randint(1, 100) for _ in range(length)]\n",
    "print(random_list(4))\n",
    "\n",
    "# функция для генерации почти отсортированного списка по возрастанию:\n",
    "def almost_sorted_list(length):\n",
    "    lst = list(range(1, length+1))\n",
    "    random_index = random.randint(0, length - 1)\n",
    "    random_value = random.randint(1, 100)\n",
    "    lst[random_index] = random_value\n",
    "    return lst\n",
    "print(almost_sorted_list(11))"
   ]
  },
  {
   "cell_type": "markdown",
   "id": "cfe6cd68",
   "metadata": {},
   "source": [
    "11) Реализовать функцию тестирования алгоритма сортировки. Процедура принимает на вход алгоритм сортировки и алгоритм порождения списка f_gen(list_len), генерирующий список заданной длины, количество повтороений теста и список длин использующихся для тестирования. Для каждой длины списка функция тестирования возвращает минимальное, среднее и наибольшее количество сравнений и перестановок."
   ]
  },
  {
   "cell_type": "code",
   "execution_count": 1,
   "id": "85251711",
   "metadata": {},
   "outputs": [
    {
     "name": "stdout",
     "output_type": "stream",
     "text": [
      "[{'length': 100, 'min_comparisons': 2220, 'avg_comparisons': 2398.8, 'max_comparisons': 2512, 'min_swaps': 2220, 'avg_swaps': 2398.8, 'max_swaps': 2512}, {'length': 500, 'min_comparisons': 59759, 'avg_comparisons': 61590.8, 'max_comparisons': 62653, 'min_swaps': 59759, 'avg_swaps': 61590.8, 'max_swaps': 62653}, {'length': 1000, 'min_comparisons': 248360, 'avg_comparisons': 252091, 'max_comparisons': 253650, 'min_swaps': 248360, 'avg_swaps': 252091, 'max_swaps': 253650}]\n"
     ]
    }
   ],
   "source": [
    "import random\n",
    "import statistics\n",
    "\n",
    "def test_sort_algorithm(sort_func, list_generator, num_tests, list_lengths):\n",
    "    results = []\n",
    "\n",
    "    for length in list_lengths:\n",
    "        comparisons = []\n",
    "        swaps = []\n",
    "\n",
    "        for _ in range(num_tests):\n",
    "            test_list = list_generator(length)\n",
    "            sorted_list, comp, swap = sort_func(test_list)\n",
    "            comparisons.append(comp)\n",
    "            swaps.append(swap)\n",
    "\n",
    "        min_comp = min(comparisons)\n",
    "        avg_comp = statistics.mean(comparisons)\n",
    "        max_comp = max(comparisons)\n",
    "\n",
    "        min_swap = min(swaps)\n",
    "        avg_swap = statistics.mean(swaps)\n",
    "        max_swap = max(swaps)\n",
    "\n",
    "        result = {\n",
    "            'length': length,\n",
    "            'min_comparisons': min_comp,\n",
    "            'avg_comparisons': avg_comp,\n",
    "            'max_comparisons': max_comp,\n",
    "            'min_swaps': min_swap,\n",
    "            'avg_swaps': avg_swap,\n",
    "            'max_swaps': max_swap\n",
    "        }\n",
    "        results.append(result)\n",
    "\n",
    "    return results\n",
    "\n",
    "def insertion_sort(arr):\n",
    "    comparisons = 0\n",
    "    swaps = 0\n",
    "    for i in range(1, len(arr)):\n",
    "        key = arr[i]\n",
    "        j = i - 1\n",
    "        while j >= 0 and key < arr[j]:\n",
    "            comparisons += 1\n",
    "            arr[j + 1] = arr[j]\n",
    "            j -= 1\n",
    "            swaps += 1\n",
    "        arr[j + 1] = key\n",
    "    return arr, comparisons, swaps\n",
    "\n",
    "def generate_list(length):\n",
    "    return [random.randint(0, 1000) for _ in range(length)]\n",
    "\n",
    "num_tests = 5\n",
    "list_lengths = [100, 500, 1000]\n",
    "\n",
    "results = test_sort_algorithm(insertion_sort, generate_list, num_tests, list_lengths)\n",
    "print(results)"
   ]
  },
  {
   "cell_type": "markdown",
   "id": "a63e5525",
   "metadata": {},
   "source": [
    "15) Реализовать модификацию сортировки пузырьком: \"камешек-пузырек\" - с чередующимися проходами, приводящими к \"всплытию\" самого большого значения списка и \"погружению\" самого маленького значения из неотсортированной части списка.\n"
   ]
  },
  {
   "cell_type": "code",
   "execution_count": 2,
   "id": "a4d812f2",
   "metadata": {},
   "outputs": [
    {
     "name": "stdout",
     "output_type": "stream",
     "text": [
      "[3, 5, 8, 2, 6, 7, 1, 4]\n"
     ]
    }
   ],
   "source": [
    "def selection_sort_modified(arr, sublist_size):\n",
    "    n = len(arr)\n",
    "    for i in range(0, n, sublist_size):\n",
    "        sublist = arr[i:i+sublist_size]\n",
    "        selection_sort(sublist)\n",
    "        arr[i:i+sublist_size] = sublist\n",
    "    return arr\n",
    "\n",
    "def selection_sort(arr):\n",
    "    n = len(arr)\n",
    "    for i in range(n):\n",
    "        min_index = i\n",
    "        for j in range(i+1, n):\n",
    "            if arr[j] < arr[min_index]:\n",
    "                min_index = j\n",
    "        arr[i], arr[min_index] = arr[min_index], arr[i]\n",
    "    return arr\n",
    "\n",
    "arr = [5, 3, 8, 6, 2, 7, 1, 4]\n",
    "sublist_size = 3\n",
    "sorted_arr = selection_sort_modified(arr, sublist_size)\n",
    "print(sorted_arr)"
   ]
  },
  {
   "cell_type": "markdown",
   "id": "f684852a",
   "metadata": {},
   "source": [
    "16. Реализовать быструю сортировку с возможностью подсчета операций. "
   ]
  },
  {
   "cell_type": "code",
   "execution_count": 4,
   "id": "0f4f5e74",
   "metadata": {},
   "outputs": [
    {
     "name": "stdout",
     "output_type": "stream",
     "text": [
      "Массив после сортировки: [1, 1, 2, 3, 6, 8, 10]\n",
      "Количество операций сравнения: 15\n",
      "Количество операций обмена: 11\n"
     ]
    }
   ],
   "source": [
    "def quicksort(arr, low, high, count_comparisons=0, count_swaps=0):\n",
    "    if low < high:\n",
    "        pivot_index, count_comparisons, count_swaps = partition(arr, low, high, count_comparisons, count_swaps)\n",
    "        count_comparisons, count_swaps = quicksort(arr, low, pivot_index - 1, count_comparisons, count_swaps)\n",
    "        count_comparisons, count_swaps = quicksort(arr, pivot_index + 1, high, count_comparisons, count_swaps)\n",
    "    return count_comparisons, count_swaps\n",
    "\n",
    "def partition(arr, low, high, count_comparisons, count_swaps):\n",
    "    pivot = arr[high]\n",
    "    i = low - 1\n",
    "    for j in range(low, high):\n",
    "        count_comparisons += 1\n",
    "        if arr[j] < pivot:\n",
    "            i += 1\n",
    "            arr[i], arr[j] = arr[j], arr[i]\n",
    "            count_swaps += 1\n",
    "    arr[i + 1], arr[high] = arr[high], arr[i + 1]\n",
    "    count_swaps += 1\n",
    "    return i + 1, count_comparisons, count_swaps\n",
    "\n",
    "# пример использования с подсчетом операций\n",
    "arr = [3, 6, 8, 10, 1, 2, 1]\n",
    "comparisons, swaps = quicksort(arr, 0, len(arr) - 1)\n",
    "print(\"Массив после сортировки:\", arr)\n",
    "print(\"Количество операций сравнения:\", comparisons)\n",
    "print(\"Количество операций обмена:\", swaps)"
   ]
  },
  {
   "cell_type": "markdown",
   "id": "3925f7ca",
   "metadata": {},
   "source": [
    "17. Улучшить работу быстрой сортировки на упорядоченных и почти упорядоченных за счет изменения алгоритма выбора элемента для разделения массива."
   ]
  },
  {
   "cell_type": "code",
   "execution_count": 3,
   "id": "9ac0a64b",
   "metadata": {},
   "outputs": [
    {
     "name": "stdout",
     "output_type": "stream",
     "text": [
      "[1, 1, 2, 3, 3, 4, 5, 5, 5, 6, 9]\n"
     ]
    }
   ],
   "source": [
    "import random\n",
    "\n",
    "def quick_sort(arr):\n",
    "    if len(arr) <= 1:\n",
    "        return arr\n",
    "    else:\n",
    "        pivot = random.choice(arr)  # случайный выбор опорного элемента\n",
    "        less = [x for x in arr if x < pivot]\n",
    "        equal = [x for x in arr if x == pivot]\n",
    "        greater = [x for x in arr if x > pivot]\n",
    "        return quick_sort(less) + equal + quick_sort(greater)\n",
    "\n",
    "# пример использования\n",
    "arr = [3, 1, 4, 1, 5, 9, 2, 6, 5, 3, 5]\n",
    "sorted_arr = quick_sort(arr)\n",
    "print(sorted_arr)"
   ]
  },
  {
   "cell_type": "markdown",
   "id": "c88b6d91",
   "metadata": {},
   "source": [
    "18. Реализовать эффективный алгоритм получения из большого количества отсортированных списков одного отсортированного списка."
   ]
  },
  {
   "cell_type": "code",
   "execution_count": 1,
   "id": "9419008d",
   "metadata": {},
   "outputs": [
    {
     "name": "stdout",
     "output_type": "stream",
     "text": [
      "[0, 1, 2, 3, 4, 5, 6, 7, 8]\n"
     ]
    }
   ],
   "source": [
    "import heapq\n",
    "\n",
    "def merge_sorted_lists(lists):\n",
    "    result = []\n",
    "    heap = [(lst[0], i, 0) for i, lst in enumerate(lists) if lst]\n",
    "    heapq.heapify(heap)\n",
    "    \n",
    "    while heap:\n",
    "        val, list_index, idx = heapq.heappop(heap)\n",
    "        result.append(val)\n",
    "        \n",
    "        if idx + 1 < len(lists[list_index]):\n",
    "            next_tuple = (lists[list_index][idx + 1], list_index, idx + 1)\n",
    "            heapq.heappush(heap, next_tuple)\n",
    "    \n",
    "    return result\n",
    "\n",
    "# пример использования\n",
    "sorted_lists = [\n",
    "    [1, 3, 5],\n",
    "    [2, 4, 6],\n",
    "    [0, 7, 8]\n",
    "]\n",
    "\n",
    "merged_list = merge_sorted_lists(sorted_lists)\n",
    "print(merged_list)  "
   ]
  },
  {
   "cell_type": "markdown",
   "id": "8887ac26",
   "metadata": {},
   "source": [
    "19. Модифицировать последовательность длин шагов в сортировке Шелла.\n",
    "На 2[𝑛/2𝑘+1]+1\n"
   ]
  },
  {
   "cell_type": "code",
   "execution_count": 7,
   "id": "d24e130f",
   "metadata": {},
   "outputs": [
    {
     "name": "stdout",
     "output_type": "stream",
     "text": [
      "27\n"
     ]
    }
   ],
   "source": [
    "def shell_sequence(n, k):\n",
    "    h = 2 * (n // (2**k) + 1) + 1\n",
    "    return h\n",
    "\n",
    "# пример использования:\n",
    "n = 100  \n",
    "k = 3    \n",
    "result = shell_sequence(n, k)\n",
    "print(result)  "
   ]
  }
 ],
 "metadata": {
  "kernelspec": {
   "display_name": "Python 3 (ipykernel)",
   "language": "python",
   "name": "python3"
  },
  "language_info": {
   "codemirror_mode": {
    "name": "ipython",
    "version": 3
   },
   "file_extension": ".py",
   "mimetype": "text/x-python",
   "name": "python",
   "nbconvert_exporter": "python",
   "pygments_lexer": "ipython3",
   "version": "3.11.5"
  }
 },
 "nbformat": 4,
 "nbformat_minor": 5
}
