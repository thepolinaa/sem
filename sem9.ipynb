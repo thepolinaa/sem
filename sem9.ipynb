{
 "cells": [
  {
   "cell_type": "code",
   "execution_count": null,
   "id": "7b64fb94",
   "metadata": {},
   "outputs": [],
   "source": [
    "# 4.13\n",
    "l1 = ['1', '123', '123', '12', '1', '123']\n",
    "print([len(x) for x in l1])"
   ]
  },
  {
   "cell_type": "code",
   "execution_count": null,
   "id": "6017948c",
   "metadata": {},
   "outputs": [],
   "source": [
    "# 4.14\n",
    "l1 = ['1', '123', '123', '12', '1', '123']\n",
    "print(len([x for x in l1 if len(x) > 2]))"
   ]
  },
  {
   "cell_type": "code",
   "execution_count": null,
   "id": "9267d57c",
   "metadata": {},
   "outputs": [],
   "source": [
    "# 4.15\n",
    "d4 = {1: 10, 2: 20, 3: 30, 4: 40, 5: 50, 6: 60}\n",
    "print(sum([(x * d4[x]) for x in d4]))"
   ]
  },
  {
   "cell_type": "code",
   "execution_count": null,
   "id": "0e8988da",
   "metadata": {},
   "outputs": [],
   "source": [
    "# 4.16\n",
    "d5 = {'a': 3, 'b': 4, 'c': 5, 'd': 6, 'e': 7, 'f': 8, 'g': 9}\n",
    "d6 = {'e': 20, 'f': 21, 'g': 22, 'h': 23, 'i': 24, 'j': 25, 'k': 26, 'l': 27}\n",
    "d7 = {k: v for k, v in d6.items() if (k, v) not in d5.items()}\n",
    "print(d7)"
   ]
  },
  {
   "cell_type": "code",
   "execution_count": null,
   "id": "1d81e42f",
   "metadata": {},
   "outputs": [],
   "source": [
    "# 4.17\n",
    "l2 = [2, 4, -2, -3, 0, 11, 3, -1]\n",
    "print([l2[i] * (i + 1) for i in range(len(l2))])"
   ]
  },
  {
   "cell_type": "code",
   "execution_count": null,
   "id": "f5db25ee",
   "metadata": {},
   "outputs": [],
   "source": [
    "# 4.18\n",
    "l2 = [2, 4, -2, -3, 0, 11, 3, -1]\n",
    "print([x for x in l2 if x > 0])"
   ]
  },
  {
   "cell_type": "code",
   "execution_count": null,
   "id": "d7fc7a6c",
   "metadata": {},
   "outputs": [],
   "source": [
    "# 4.19\n",
    "l2 = [2, 4, -2, -3, 0, 11, 3, -1]\n",
    "print([l2[x] if l2[x] > 0 else (x + 1) for x in range(len(l2))])"
   ]
  },
  {
   "cell_type": "code",
   "execution_count": null,
   "id": "dbd320c7",
   "metadata": {},
   "outputs": [],
   "source": [
    "# 5.8\n",
    "def to_text(number):\n",
    "    if number < 0 or number > 99:\n",
    "        return \"число должно быть от 0 до 99\"\n",
    "    ones = [\"один\", \"два\", \"три\", \"четыре\", \"пять\", \"шесть\", \"семь\", \"восемь\", \"девять\"]\n",
    "    teens = [\"десять\", \"одиннадцать\", \"двенадцать\", \"тринадцать\", \"четырнадцать\", \"пятнадцать\", \"шестнадцать\", \"семнадцать\", \"восемнадцать\", \"девятнадцать\"]\n",
    "    tens = [\"десять\", \"двадцать\", \"тридцать\", \"сорок\", \"пятьдесят\", \"шестьдесят\", \"семьдесят\", \"восемьдесят\", \"девяносто\"]\n",
    "    if number < 10:\n",
    "        return ones[number]\n",
    "    elif number < 20:\n",
    "        return teens[number % 10]\n",
    "    else:\n",
    "        if number % 10 == 0:\n",
    "            return tens[number // 10]\n",
    "        else:\n",
    "            return tens[number // 10] + \" \" + ones[number % 10]\n",
    "print(to_text(15))  "
   ]
  },
  {
   "cell_type": "code",
   "execution_count": null,
   "id": "dd0249bf",
   "metadata": {},
   "outputs": [],
   "source": [
    "# 5.9\n",
    "def to_int(text):\n",
    "    numbers_dict = {'ноль': 0, 'один': 1, 'два': 2, 'три': 3, 'четыре': 4, 'пять': 5, 'шесть': 6, 'семь': 7, 'восемь': 8, 'девять': 9,\n",
    "                    'десять': 10, 'одиннадцать': 11, 'двенадцать': 12, 'тринадцать': 13, 'четырнадцать': 14, 'пятнадцать': 15,\n",
    "                    'шестнадцать': 16, 'семнадцать': 17, 'восемнадцать': 18, 'девятнадцать': 19, 'двадцать': 20, 'тридцать': 30,\n",
    "                    'сорок': 40, 'пятьдесят': 50, 'шестьдесят': 60, 'семьдесят': 70, 'восемьдесят': 80, 'девяносто': 90,\n",
    "                    'сто': 100, 'двести': 200, 'триста': 300, 'четыреста': 400, 'пятьсот': 500, 'шестьсот': 600, 'семьсот': 700,\n",
    "                    'восемьсот': 800, 'девятьсот': 900}\n",
    "    words = text.split()\n",
    "    result = 0\n",
    "    accumulator = 0\n",
    "    for word in words:\n",
    "        number = numbers_dict[word]\n",
    "        if number >= 100:\n",
    "            if accumulator == 0:\n",
    "                accumulator = number\n",
    "            else:\n",
    "                accumulator *= number\n",
    "        else:\n",
    "            result += number + accumulator\n",
    "            accumulator = 0\n",
    "    return result\n",
    "print(to_int('тридцать три'))  "
   ]
  }
 ],
 "metadata": {
  "kernelspec": {
   "display_name": "Python 3 (ipykernel)",
   "language": "python",
   "name": "python3"
  },
  "language_info": {
   "codemirror_mode": {
    "name": "ipython",
    "version": 3
   },
   "file_extension": ".py",
   "mimetype": "text/x-python",
   "name": "python",
   "nbconvert_exporter": "python",
   "pygments_lexer": "ipython3",
   "version": "3.11.5"
  }
 },
 "nbformat": 4,
 "nbformat_minor": 5
}
