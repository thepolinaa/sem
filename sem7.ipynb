{
 "cells": [
  {
   "cell_type": "code",
   "execution_count": null,
   "id": "05ba4893",
   "metadata": {},
   "outputs": [],
   "source": [
    "# 1\n",
    "s = input()\n",
    "d = {}\n",
    "for i in range(len(s)):\n",
    "    d[s[i]] = i\n",
    "print(d)"
   ]
  },
  {
   "cell_type": "code",
   "execution_count": null,
   "id": "def339ff",
   "metadata": {},
   "outputs": [],
   "source": [
    "# 2\n",
    "l1 = [1, 2, 3, 4, 5]\n",
    "d1 = {2 : 2, 1 : 1, 9 : 5}\n",
    "n1 = 0\n",
    "n2 = 0\n",
    "for i in l1:\n",
    "    if i in d1.values(): \n",
    "        n1 += 1\n",
    "    if i in d1: \n",
    "        n2 += 1 \n",
    "print(n1, n2)"
   ]
  },
  {
   "cell_type": "code",
   "execution_count": null,
   "id": "31290a71",
   "metadata": {},
   "outputs": [],
   "source": [
    "# 3\n",
    "evgene_o = input()\n",
    "d = {}\n",
    "for i in evgene_o:\n",
    "   if d.get(i, 0) == 0:\n",
    "        d[i] = 0\n",
    "    d[i] += 1\n",
    "print(d)"
   ]
  },
  {
   "cell_type": "code",
   "execution_count": null,
   "id": "1cf4aeba",
   "metadata": {},
   "outputs": [],
   "source": [
    "# 4\n",
    "evgene_o = input()\n",
    "d = {}\n",
    "for i in evgene_o:\n",
    "    if d.get(i, 0) == 0:\n",
    "        d[i] = 0\n",
    "    d[i] += 1\n",
    "n = 0\n",
    "for i in d:\n",
    "    if i.isalpha() and i==i.lower():\n",
    "        n += d[i]\n",
    "print(f'количество строчных букв: {n}')"
   ]
  },
  {
   "cell_type": "code",
   "execution_count": null,
   "id": "fd11b8dc",
   "metadata": {},
   "outputs": [],
   "source": [
    "# 5\n",
    "dic1 = {1 : '1', 2 : '2', 3 : '3'}\n",
    "dic2 = {4 : '4', 5 : '5', 6 : '6'}\n",
    "dic3 = {7 : '7', 8 : '8', 9 : '9'}\n",
    "dic4 = dic1 | dic2 | dic3\n",
    "dic4 = {**dic1, **dic2, **dic3}\n",
    "print(dic4)"
   ]
  },
  {
   "cell_type": "code",
   "execution_count": null,
   "id": "d6175185",
   "metadata": {},
   "outputs": [],
   "source": [
    "# 6\n",
    "dic4 = {1 : '1', 2 : '2', 3 : '3', 4 : '4', 5 : '5', 6 : '6', 7 : '7', 8 : '8', 9 : '9'}\n",
    "n1 = 0\n",
    "n2 = 0\n",
    "for i in dic4.values():\n",
    "    n1 += 1\n",
    "for i in dic4:\n",
    "    n2 += 1\n",
    "print(n1, n2)"
   ]
  },
  {
   "cell_type": "code",
   "execution_count": null,
   "id": "7747a8af",
   "metadata": {},
   "outputs": [],
   "source": [
    "# 7\n",
    "dic4 = {1 : 1, 2 : 2, 3 : 3, 4 : 4, 5 : 5, 6 : 6, 7 : 7, 8 : 8, 9 : 9}\n",
    "n = 1\n",
    "for i in dic4.values():\n",
    "    n *= i\n",
    "print(n)"
   ]
  },
  {
   "cell_type": "code",
   "execution_count": null,
   "id": "2512f3a9",
   "metadata": {},
   "outputs": [],
   "source": [
    "# 8\n",
    "dic4 = {1 : 11, 2 : 22, 3 : 33, 4 : 44}\n",
    "n = 0\n",
    "for i in dic4:\n",
    "    n += i * dic4[i]\n",
    "print(n)"
   ]
  },
  {
   "cell_type": "code",
   "execution_count": null,
   "id": "bf6e26aa",
   "metadata": {},
   "outputs": [],
   "source": [
    "# 9\n",
    "dic5 = {1 : 1, 2 : 2, 3 : 3}\n",
    "dic6 = {5 : 5, 6 : 6, 3 : 33}\n",
    "dic7 = {}\n",
    "for i in dic6:\n",
    "    if not i in dic5:\n",
    "        dic7[i] = dic6[i]\n",
    "print(dic7)"
   ]
  },
  {
   "cell_type": "code",
   "execution_count": null,
   "id": "f5d8aca5",
   "metadata": {},
   "outputs": [],
   "source": [
    "# 10\n",
    "dic5 = {1 : 1, 2 : 2, 3 : 3}\n",
    "dic6 = {5 : 5, 6 : 6, 3 : 33}\n",
    "dic8 = dic5\n",
    "for i in dic6:\n",
    "    if not i in dic5:\n",
    "        dic8[i] = dic6[i]\n",
    "print(dic8)"
   ]
  },
  {
   "cell_type": "code",
   "execution_count": null,
   "id": "7eff2cfb",
   "metadata": {},
   "outputs": [],
   "source": [
    "# 11\n",
    "ri1 = [10, 9, 9, 8, 7, 7, 7, 6, 10]\n",
    "ri2 = list(set(ri1))\n",
    "print(ri2)"
   ]
  },
  {
   "cell_type": "code",
   "execution_count": null,
   "id": "aa59df0e",
   "metadata": {},
   "outputs": [],
   "source": [
    "# 11.2\n",
    "l1 = [[1, 2, 3], [4, 5, 6, 7], [9, 2]]\n",
    "l2 = []\n",
    "for i in l1:\n",
    "    l2 += [i[0], i[-1]] \n",
    "print(l2)"
   ]
  },
  {
   "cell_type": "code",
   "execution_count": null,
   "id": "eb4c976a",
   "metadata": {},
   "outputs": [],
   "source": [
    "# 11.3\n",
    "evgene_o = input()\n",
    "d = {}\n",
    "r = {}\n",
    "for i in evgene_o:\n",
    "    if d.get(i, 0) == 0:\n",
    "        d[i] = 0\n",
    "    d[i] += 1 \n",
    "n = 0\n",
    "for i in d:\n",
    "    if d[i] > 5:\n",
    "        r[i] = d[i]\n",
    "print(r)"
   ]
  }
 ],
 "metadata": {
  "kernelspec": {
   "display_name": "Python 3 (ipykernel)",
   "language": "python",
   "name": "python3"
  },
  "language_info": {
   "codemirror_mode": {
    "name": "ipython",
    "version": 3
   },
   "file_extension": ".py",
   "mimetype": "text/x-python",
   "name": "python",
   "nbconvert_exporter": "python",
   "pygments_lexer": "ipython3",
   "version": "3.11.5"
  }
 },
 "nbformat": 4,
 "nbformat_minor": 5
}
